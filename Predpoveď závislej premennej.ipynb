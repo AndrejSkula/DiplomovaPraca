{
 "cells": [
  {
   "cell_type": "code",
   "execution_count": 1,
   "id": "dbefc2dd",
   "metadata": {},
   "outputs": [
    {
     "data": {
      "text/html": [
       "<div>\n",
       "<style scoped>\n",
       "    .dataframe tbody tr th:only-of-type {\n",
       "        vertical-align: middle;\n",
       "    }\n",
       "\n",
       "    .dataframe tbody tr th {\n",
       "        vertical-align: top;\n",
       "    }\n",
       "\n",
       "    .dataframe thead th {\n",
       "        text-align: right;\n",
       "    }\n",
       "</style>\n",
       "<table border=\"1\" class=\"dataframe\">\n",
       "  <thead>\n",
       "    <tr style=\"text-align: right;\">\n",
       "      <th></th>\n",
       "      <th>Vek</th>\n",
       "      <th>Náklady</th>\n",
       "    </tr>\n",
       "  </thead>\n",
       "  <tbody>\n",
       "    <tr>\n",
       "      <th>0</th>\n",
       "      <td>1</td>\n",
       "      <td>250</td>\n",
       "    </tr>\n",
       "    <tr>\n",
       "      <th>1</th>\n",
       "      <td>1</td>\n",
       "      <td>275</td>\n",
       "    </tr>\n",
       "    <tr>\n",
       "      <th>2</th>\n",
       "      <td>2</td>\n",
       "      <td>325</td>\n",
       "    </tr>\n",
       "    <tr>\n",
       "      <th>3</th>\n",
       "      <td>2</td>\n",
       "      <td>300</td>\n",
       "    </tr>\n",
       "    <tr>\n",
       "      <th>4</th>\n",
       "      <td>3</td>\n",
       "      <td>400</td>\n",
       "    </tr>\n",
       "    <tr>\n",
       "      <th>5</th>\n",
       "      <td>4</td>\n",
       "      <td>425</td>\n",
       "    </tr>\n",
       "    <tr>\n",
       "      <th>6</th>\n",
       "      <td>4</td>\n",
       "      <td>450</td>\n",
       "    </tr>\n",
       "    <tr>\n",
       "      <th>7</th>\n",
       "      <td>5</td>\n",
       "      <td>425</td>\n",
       "    </tr>\n",
       "    <tr>\n",
       "      <th>8</th>\n",
       "      <td>5</td>\n",
       "      <td>525</td>\n",
       "    </tr>\n",
       "    <tr>\n",
       "      <th>9</th>\n",
       "      <td>6</td>\n",
       "      <td>600</td>\n",
       "    </tr>\n",
       "  </tbody>\n",
       "</table>\n",
       "</div>"
      ],
      "text/plain": [
       "   Vek  Náklady\n",
       "0    1      250\n",
       "1    1      275\n",
       "2    2      325\n",
       "3    2      300\n",
       "4    3      400\n",
       "5    4      425\n",
       "6    4      450\n",
       "7    5      425\n",
       "8    5      525\n",
       "9    6      600"
      ]
     },
     "execution_count": 1,
     "metadata": {},
     "output_type": "execute_result"
    }
   ],
   "source": [
    "import pandas as pd\n",
    "import statsmodels.api as sm\n",
    "data = pd.read_csv('6.3.8.csv', sep=\";\")\n",
    "data"
   ]
  },
  {
   "cell_type": "code",
   "execution_count": 2,
   "id": "1b574dbf",
   "metadata": {},
   "outputs": [
    {
     "name": "stderr",
     "output_type": "stream",
     "text": [
      "C:\\Users\\andre\\anaconda3\\lib\\site-packages\\statsmodels\\tsa\\tsatools.py:142: FutureWarning: In a future version of pandas all arguments of concat except for the argument 'objs' will be keyword-only\n",
      "  x = pd.concat(x[::order], 1)\n",
      "C:\\Users\\andre\\anaconda3\\lib\\site-packages\\scipy\\stats\\stats.py:1541: UserWarning: kurtosistest only valid for n>=20 ... continuing anyway, n=10\n",
      "  warnings.warn(\"kurtosistest only valid for n>=20 ... continuing \"\n"
     ]
    },
    {
     "data": {
      "text/html": [
       "<table class=\"simpletable\">\n",
       "<caption>OLS Regression Results</caption>\n",
       "<tr>\n",
       "  <th>Dep. Variable:</th>         <td>Náklady</td>     <th>  R-squared:         </th> <td>   0.918</td>\n",
       "</tr>\n",
       "<tr>\n",
       "  <th>Model:</th>                   <td>OLS</td>       <th>  Adj. R-squared:    </th> <td>   0.907</td>\n",
       "</tr>\n",
       "<tr>\n",
       "  <th>Method:</th>             <td>Least Squares</td>  <th>  F-statistic:       </th> <td>   89.19</td>\n",
       "</tr>\n",
       "<tr>\n",
       "  <th>Date:</th>             <td>Mon, 27 Mar 2023</td> <th>  Prob (F-statistic):</th> <td>1.30e-05</td>\n",
       "</tr>\n",
       "<tr>\n",
       "  <th>Time:</th>                 <td>18:42:58</td>     <th>  Log-Likelihood:    </th> <td> -48.369</td>\n",
       "</tr>\n",
       "<tr>\n",
       "  <th>No. Observations:</th>      <td>    10</td>      <th>  AIC:               </th> <td>   100.7</td>\n",
       "</tr>\n",
       "<tr>\n",
       "  <th>Df Residuals:</th>          <td>     8</td>      <th>  BIC:               </th> <td>   101.3</td>\n",
       "</tr>\n",
       "<tr>\n",
       "  <th>Df Model:</th>              <td>     1</td>      <th>                     </th>     <td> </td>   \n",
       "</tr>\n",
       "<tr>\n",
       "  <th>Covariance Type:</th>      <td>nonrobust</td>    <th>                     </th>     <td> </td>   \n",
       "</tr>\n",
       "</table>\n",
       "<table class=\"simpletable\">\n",
       "<tr>\n",
       "    <td></td>       <th>coef</th>     <th>std err</th>      <th>t</th>      <th>P>|t|</th>  <th>[0.025</th>    <th>0.975]</th>  \n",
       "</tr>\n",
       "<tr>\n",
       "  <th>const</th> <td>  196.9751</td> <td>   23.815</td> <td>    8.271</td> <td> 0.000</td> <td>  142.058</td> <td>  251.892</td>\n",
       "</tr>\n",
       "<tr>\n",
       "  <th>Vek</th>   <td>   60.7651</td> <td>    6.434</td> <td>    9.444</td> <td> 0.000</td> <td>   45.928</td> <td>   75.602</td>\n",
       "</tr>\n",
       "</table>\n",
       "<table class=\"simpletable\">\n",
       "<tr>\n",
       "  <th>Omnibus:</th>       <td> 8.065</td> <th>  Durbin-Watson:     </th> <td>   2.404</td>\n",
       "</tr>\n",
       "<tr>\n",
       "  <th>Prob(Omnibus):</th> <td> 0.018</td> <th>  Jarque-Bera (JB):  </th> <td>   3.230</td>\n",
       "</tr>\n",
       "<tr>\n",
       "  <th>Skew:</th>          <td>-1.266</td> <th>  Prob(JB):          </th> <td>   0.199</td>\n",
       "</tr>\n",
       "<tr>\n",
       "  <th>Kurtosis:</th>      <td> 4.156</td> <th>  Cond. No.          </th> <td>    8.65</td>\n",
       "</tr>\n",
       "</table><br/><br/>Notes:<br/>[1] Standard Errors assume that the covariance matrix of the errors is correctly specified."
      ],
      "text/plain": [
       "<class 'statsmodels.iolib.summary.Summary'>\n",
       "\"\"\"\n",
       "                            OLS Regression Results                            \n",
       "==============================================================================\n",
       "Dep. Variable:                Náklady   R-squared:                       0.918\n",
       "Model:                            OLS   Adj. R-squared:                  0.907\n",
       "Method:                 Least Squares   F-statistic:                     89.19\n",
       "Date:                Mon, 27 Mar 2023   Prob (F-statistic):           1.30e-05\n",
       "Time:                        18:42:58   Log-Likelihood:                -48.369\n",
       "No. Observations:                  10   AIC:                             100.7\n",
       "Df Residuals:                       8   BIC:                             101.3\n",
       "Df Model:                           1                                         \n",
       "Covariance Type:            nonrobust                                         \n",
       "==============================================================================\n",
       "                 coef    std err          t      P>|t|      [0.025      0.975]\n",
       "------------------------------------------------------------------------------\n",
       "const        196.9751     23.815      8.271      0.000     142.058     251.892\n",
       "Vek           60.7651      6.434      9.444      0.000      45.928      75.602\n",
       "==============================================================================\n",
       "Omnibus:                        8.065   Durbin-Watson:                   2.404\n",
       "Prob(Omnibus):                  0.018   Jarque-Bera (JB):                3.230\n",
       "Skew:                          -1.266   Prob(JB):                        0.199\n",
       "Kurtosis:                       4.156   Cond. No.                         8.65\n",
       "==============================================================================\n",
       "\n",
       "Notes:\n",
       "[1] Standard Errors assume that the covariance matrix of the errors is correctly specified.\n",
       "\"\"\""
      ]
     },
     "execution_count": 2,
     "metadata": {},
     "output_type": "execute_result"
    }
   ],
   "source": [
    "X = data['Vek']\n",
    "y = data['Náklady']\n",
    "model = sm.OLS(y, sm.add_constant(X)).fit()\n",
    "model.summary()"
   ]
  },
  {
   "cell_type": "code",
   "execution_count": 3,
   "id": "749a5482",
   "metadata": {},
   "outputs": [],
   "source": [
    "from statsmodels.stats.outliers_influence import summary_table\n",
    "\n",
    "st, data, st2 = summary_table(model, alpha=0.05)"
   ]
  },
  {
   "cell_type": "code",
   "execution_count": 4,
   "id": "e4cb1b36",
   "metadata": {},
   "outputs": [
    {
     "data": {
      "text/html": [
       "<table class=\"simpletable\">\n",
       "<tr>\n",
       "   <th>Obs</th>   <th>Dep Var</th>      <th>Predicted</th>          <th>Std Error</th>           <th>Mean ci</th>            <th>Mean ci</th>          <th>Predict ci</th>         <th>Predict ci</th>          <th>Residual</th>            <th>Std Error</th>            <th>Student</th>              <th>Cook's</th>        \n",
       "</tr>\n",
       "<tr>\n",
       "    <th></th>   <th>Population</th>       <th>Value</th>          <th>Mean Predict</th>          <th>95% low</th>            <th>95% upp</th>            <th>95% low</th>            <th>95% upp</th>               <th></th>                <th>Residual</th>            <th>Residual</th>                 <th>D</th>          \n",
       "</tr>\n",
       "<tr>\n",
       "   <td>1.0</td>    <td>250.0</td>   <td>257.7402135231316</td> <td>18.311631607520187</td>  <td>215.5135153169823</td>  <td>299.9669117292809</td> <td>168.47157726402997</td> <td>347.00884978223326</td> <td>-7.740213523131615</td>  <td>28.773953076149876</td> <td>-0.26900070013484917</td>  <td>0.01465317877629041</td> \n",
       "</tr>\n",
       "<tr>\n",
       "   <td>2.0</td>    <td>275.0</td>   <td>257.7402135231316</td>  <td>18.31163160752018</td>  <td>215.5135153169823</td>  <td>299.9669117292809</td> <td>168.47157726402997</td> <td>347.00884978223326</td> <td>17.259786476868385</td>   <td>28.77395307614988</td>  <td>0.5998406416800149</td>   <td>0.07286128107074608</td> \n",
       "</tr>\n",
       "<tr>\n",
       "   <td>3.0</td>    <td>325.0</td>   <td>318.5053380782918</td> <td>13.648684351116293</td> <td>287.03141552685236</td> <td>349.97926062973124</td> <td>233.79168404931846</td> <td>403.21899210726514</td>   <td>6.4946619217082</td>    <td>31.25651361303113</td>  <td>0.20778587151832933</td> <td>0.004116257580759373</td> \n",
       "</tr>\n",
       "<tr>\n",
       "   <td>4.0</td>    <td>300.0</td>   <td>318.5053380782918</td> <td>13.648684351116293</td> <td>287.03141552685236</td> <td>349.97926062973124</td> <td>233.79168404931846</td> <td>403.21899210726514</td>  <td>-18.5053380782918</td>   <td>31.25651361303113</td>  <td>-0.5920474147371558</td> <td>0.033418233810090535</td> \n",
       "</tr>\n",
       "<tr>\n",
       "   <td>5.0</td>    <td>400.0</td>   <td>379.270462633452</td>  <td>10.956794899336614</td>  <td>354.0040482888692</td> <td>404.53687697803474</td>  <td>296.6618246347613</td>  <td>461.8791006321427</td> <td>20.729537366548016</td>  <td>32.298682222218886</td>  <td>0.6418075271283905</td>  <td>0.023701567766827636</td> \n",
       "</tr>\n",
       "<tr>\n",
       "   <td>6.0</td>    <td>425.0</td>   <td>440.0355871886122</td> <td>11.688034992191731</td> <td>413.08293016620337</td>  <td>466.9882442110211</td> <td>356.89569845441804</td>  <td>523.1754759228064</td> <td>-15.035587188612226</td> <td>32.041318103026114</td> <td>-0.46925620039308563</td> <td>0.014650495147263588</td> \n",
       "</tr>\n",
       "<tr>\n",
       "   <td>7.0</td>    <td>450.0</td>   <td>440.0355871886122</td> <td>11.688034992191731</td> <td>413.08293016620337</td>  <td>466.9882442110211</td> <td>356.89569845441804</td>  <td>523.1754759228064</td>  <td>9.964412811387774</td>  <td>32.041318103026114</td>  <td>0.3109863576569496</td>  <td>0.0064345019826780115</td>\n",
       "</tr>\n",
       "<tr>\n",
       "   <td>8.0</td>    <td>425.0</td>   <td>500.8007117437724</td> <td>15.361087430716465</td>  <td>465.3779806099311</td>  <td>536.2234428776137</td>  <td>414.5420005364573</td>  <td>587.0594229510875</td> <td>-75.80071174377241</td>  <td>30.451489630293818</td>  <td>-2.489228364984949</td>   <td>0.7883631643383967</td>  \n",
       "</tr>\n",
       "<tr>\n",
       "   <td>9.0</td>    <td>525.0</td>   <td>500.8007117437724</td> <td>15.361087430716465</td>  <td>465.3779806099311</td>  <td>536.2234428776137</td>  <td>414.5420005364573</td>  <td>587.0594229510875</td>  <td>24.19928825622759</td>  <td>30.451489630293818</td>  <td>0.7946832338919013</td>   <td>0.08034982635501507</td> \n",
       "</tr>\n",
       "<tr>\n",
       "  <td>10.0</td>    <td>600.0</td>   <td>561.5658362989326</td> <td>20.447735563929317</td>  <td>514.4132735364427</td>  <td>608.7183990614225</td> <td>469.86436655478326</td>  <td>653.2673060430819</td> <td>38.434163701067405</td>  <td>27.297368702232593</td>  <td>1.4079805317618015</td>    <td>0.556175908221791</td>  \n",
       "</tr>\n",
       "</table>"
      ],
      "text/plain": [
       "<class 'statsmodels.iolib.table.SimpleTable'>"
      ]
     },
     "execution_count": 4,
     "metadata": {},
     "output_type": "execute_result"
    }
   ],
   "source": [
    "st"
   ]
  },
  {
   "cell_type": "code",
   "execution_count": 8,
   "id": "de9828c8",
   "metadata": {},
   "outputs": [
    {
     "data": {
      "text/plain": [
       "[<statsmodels.iolib.table.Cell at 0x1f89cf05310>,\n",
       " <statsmodels.iolib.table.Cell at 0x1f89cf14490>,\n",
       " <statsmodels.iolib.table.Cell at 0x1f89cf14400>,\n",
       " <statsmodels.iolib.table.Cell at 0x1f89cf14430>,\n",
       " <statsmodels.iolib.table.Cell at 0x1f89cf14520>,\n",
       " <statsmodels.iolib.table.Cell at 0x1f89cf14580>,\n",
       " <statsmodels.iolib.table.Cell at 0x1f89cf145e0>,\n",
       " <statsmodels.iolib.table.Cell at 0x1f89cf14640>,\n",
       " <statsmodels.iolib.table.Cell at 0x1f89cf146a0>,\n",
       " <statsmodels.iolib.table.Cell at 0x1f89cf14700>,\n",
       " <statsmodels.iolib.table.Cell at 0x1f89cf14760>,\n",
       " <statsmodels.iolib.table.Cell at 0x1f89cf147c0>]"
      ]
     },
     "execution_count": 8,
     "metadata": {},
     "output_type": "execute_result"
    }
   ],
   "source": [
    "st[1]"
   ]
  },
  {
   "cell_type": "code",
   "execution_count": 7,
   "id": "4b61c84c",
   "metadata": {},
   "outputs": [
    {
     "data": {
      "text/plain": [
       "array([2.00000000e+00, 2.75000000e+02, 2.57740214e+02, 1.83116316e+01,\n",
       "       2.15513515e+02, 2.99966912e+02, 1.68471577e+02, 3.47008850e+02,\n",
       "       1.72597865e+01, 2.87739531e+01, 5.99840642e-01, 7.28612811e-02])"
      ]
     },
     "execution_count": 7,
     "metadata": {},
     "output_type": "execute_result"
    }
   ],
   "source": [
    "data[1]"
   ]
  },
  {
   "cell_type": "code",
   "execution_count": 10,
   "id": "38b3bb42",
   "metadata": {},
   "outputs": [
    {
     "data": {
      "text/plain": [
       "['Obs',\n",
       " 'Dep Var\\nPopulation',\n",
       " 'Predicted\\nValue',\n",
       " 'Std Error\\nMean Predict',\n",
       " 'Mean ci\\n95% low',\n",
       " 'Mean ci\\n95% upp',\n",
       " 'Predict ci\\n95% low',\n",
       " 'Predict ci\\n95% upp',\n",
       " 'Residual',\n",
       " 'Std Error\\nResidual',\n",
       " 'Student\\nResidual',\n",
       " \"Cook's\\nD\"]"
      ]
     },
     "execution_count": 10,
     "metadata": {},
     "output_type": "execute_result"
    }
   ],
   "source": [
    "st2"
   ]
  },
  {
   "cell_type": "code",
   "execution_count": 35,
   "id": "7849780b",
   "metadata": {},
   "outputs": [],
   "source": [
    "import numpy as np\n",
    "import matplotlib.pyplot as plt"
   ]
  },
  {
   "cell_type": "code",
   "execution_count": 37,
   "id": "e1b02a10",
   "metadata": {},
   "outputs": [
    {
     "data": {
      "image/png": "[encoded data removed]",
      "text/plain": [
       "<Figure size 432x288 with 1 Axes>"
      ]
     },
     "metadata": {
      "needs_background": "light"
     },
     "output_type": "display_data"
    }
   ],
   "source": [
    "fittedvalues = data[:, 2]\n",
    "predict_mean_se  = data[:, 3]\n",
    "predict_mean_ci_low, predict_mean_ci_upp = data[:, 4:6].T\n",
    "predict_ci_low, predict_ci_upp = data[:, 6:8].T\n",
    "\n",
    "# Check we got the right things\n",
    "#print np.max(np.abs(re.fittedvalues - fittedvalues))\n",
    "#print np.max(np.abs(iv_l - predict_ci_low))\n",
    "#print np.max(np.abs(iv_u - predict_ci_upp))\n",
    "\n",
    "plt.plot(X, y, 'o')\n",
    "plt.plot(X, fittedvalues, '-', lw=2)\n",
    "plt.plot(X, predict_ci_low, 'r--', lw=2)\n",
    "plt.plot(X, predict_ci_upp, 'r--', lw=2)\n",
    "plt.plot(X, predict_mean_ci_low, 'r--', lw=2)\n",
    "plt.plot(X, predict_mean_ci_upp, 'r--', lw=2)\n",
    "plt.show()"
   ]
  },
  {
   "cell_type": "code",
   "execution_count": 38,
   "id": "bee241ec",
   "metadata": {},
   "outputs": [
    {
     "data": {
      "text/plain": [
       "array([257.74021352, 257.74021352, 318.50533808, 318.50533808,\n",
       "       379.27046263, 440.03558719, 440.03558719, 500.80071174,\n",
       "       500.80071174, 561.5658363 ])"
      ]
     },
     "execution_count": 38,
     "metadata": {},
     "output_type": "execute_result"
    }
   ],
   "source": [
    "fittedvalues"
   ]
  },
  {
   "cell_type": "code",
   "execution_count": null,
   "id": "4ab9e0f2",
   "metadata": {},
   "outputs": [],
   "source": []
  }
 ],
 "metadata": {
  "kernelspec": {
   "display_name": "Python 3 (ipykernel)",
   "language": "python",
   "name": "python3"
  },
  "language_info": {
   "codemirror_mode": {
    "name": "ipython",
    "version": 3
   },
   "file_extension": ".py",
   "mimetype": "text/x-python",
   "name": "python",
   "nbconvert_exporter": "python",
   "pygments_lexer": "ipython3",
   "version": "3.9.7"
  }
 },
 "nbformat": 4,
 "nbformat_minor": 5
}
